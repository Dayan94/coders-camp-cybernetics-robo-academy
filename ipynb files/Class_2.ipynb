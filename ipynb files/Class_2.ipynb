{
 "cells": [
  {
   "cell_type": "markdown",
   "id": "c4e8e967",
   "metadata": {},
   "source": [
    "# 1. Global Scope and Buit-in Scope difference\n",
    "### * To access built-in attributes and functions importing does not required. To access global function and variables of other files/modules you need to import that file in the current file.  "
   ]
  },
  {
   "cell_type": "markdown",
   "id": "4e1fcdd7",
   "metadata": {},
   "source": [
    "### 1.1 Built-in Function has no need to be imported."
   ]
  },
  {
   "cell_type": "code",
   "execution_count": 1,
   "id": "432f72ec",
   "metadata": {},
   "outputs": [
    {
     "data": {
      "text/plain": [
       "4.435"
      ]
     },
     "execution_count": 1,
     "metadata": {},
     "output_type": "execute_result"
    }
   ],
   "source": [
    "round(4.434567, 3) # round is a built-in function and no need to import its file or library"
   ]
  },
  {
   "cell_type": "markdown",
   "id": "f17e7c22",
   "metadata": {},
   "source": [
    "### 1.2 Importing Global Variable of Class_1.py file to use it in Class_2.ipynb"
   ]
  },
  {
   "cell_type": "code",
   "execution_count": 8,
   "id": "56fd7825",
   "metadata": {},
   "outputs": [
    {
     "name": "stdout",
     "output_type": "stream",
     "text": [
      "4.3\n"
     ]
    }
   ],
   "source": [
    "# importing global variable test1 of Class_1.py file\n",
    "\n",
    "from Class_1 import test1\n",
    "print(test1)"
   ]
  },
  {
   "cell_type": "markdown",
   "id": "21838d83",
   "metadata": {},
   "source": [
    "### 1.2 Importing Global Variable of Class_1.ipynb file to use it in Class_2.ipynb"
   ]
  },
  {
   "cell_type": "code",
   "execution_count": 3,
   "id": "83474581",
   "metadata": {},
   "outputs": [
    {
     "name": "stdout",
     "output_type": "stream",
     "text": [
      "Requirement already satisfied: import_ipynb in /Library/Frameworks/Python.framework/Versions/3.10/lib/python3.10/site-packages (0.1.4)\n",
      "Requirement already satisfied: nbformat in /Library/Frameworks/Python.framework/Versions/3.10/lib/python3.10/site-packages (from import_ipynb) (5.4.0)\n",
      "Requirement already satisfied: IPython in /Library/Frameworks/Python.framework/Versions/3.10/lib/python3.10/site-packages (from import_ipynb) (8.4.0)\n",
      "Requirement already satisfied: prompt-toolkit!=3.0.0,!=3.0.1,<3.1.0,>=2.0.0 in /Library/Frameworks/Python.framework/Versions/3.10/lib/python3.10/site-packages (from IPython->import_ipynb) (3.0.30)\n",
      "Requirement already satisfied: setuptools>=18.5 in /Library/Frameworks/Python.framework/Versions/3.10/lib/python3.10/site-packages (from IPython->import_ipynb) (58.1.0)\n",
      "Requirement already satisfied: jedi>=0.16 in /Library/Frameworks/Python.framework/Versions/3.10/lib/python3.10/site-packages (from IPython->import_ipynb) (0.18.1)\n",
      "Requirement already satisfied: backcall in /Library/Frameworks/Python.framework/Versions/3.10/lib/python3.10/site-packages (from IPython->import_ipynb) (0.2.0)\n",
      "Requirement already satisfied: matplotlib-inline in /Library/Frameworks/Python.framework/Versions/3.10/lib/python3.10/site-packages (from IPython->import_ipynb) (0.1.3)\n",
      "Requirement already satisfied: pickleshare in /Library/Frameworks/Python.framework/Versions/3.10/lib/python3.10/site-packages (from IPython->import_ipynb) (0.7.5)\n",
      "Requirement already satisfied: stack-data in /Library/Frameworks/Python.framework/Versions/3.10/lib/python3.10/site-packages (from IPython->import_ipynb) (0.3.0)\n",
      "Requirement already satisfied: pexpect>4.3 in /Library/Frameworks/Python.framework/Versions/3.10/lib/python3.10/site-packages (from IPython->import_ipynb) (4.8.0)\n",
      "Requirement already satisfied: decorator in /Library/Frameworks/Python.framework/Versions/3.10/lib/python3.10/site-packages (from IPython->import_ipynb) (5.1.1)\n",
      "Requirement already satisfied: pygments>=2.4.0 in /Library/Frameworks/Python.framework/Versions/3.10/lib/python3.10/site-packages (from IPython->import_ipynb) (2.12.0)\n",
      "Requirement already satisfied: traitlets>=5 in /Library/Frameworks/Python.framework/Versions/3.10/lib/python3.10/site-packages (from IPython->import_ipynb) (5.3.0)\n",
      "Requirement already satisfied: appnope in /Library/Frameworks/Python.framework/Versions/3.10/lib/python3.10/site-packages (from IPython->import_ipynb) (0.1.3)\n",
      "Requirement already satisfied: jupyter-core in /Library/Frameworks/Python.framework/Versions/3.10/lib/python3.10/site-packages (from nbformat->import_ipynb) (4.11.1)\n",
      "Requirement already satisfied: jsonschema>=2.6 in /Library/Frameworks/Python.framework/Versions/3.10/lib/python3.10/site-packages (from nbformat->import_ipynb) (4.9.0)\n",
      "Requirement already satisfied: fastjsonschema in /Library/Frameworks/Python.framework/Versions/3.10/lib/python3.10/site-packages (from nbformat->import_ipynb) (2.16.1)\n",
      "Requirement already satisfied: parso<0.9.0,>=0.8.0 in /Library/Frameworks/Python.framework/Versions/3.10/lib/python3.10/site-packages (from jedi>=0.16->IPython->import_ipynb) (0.8.3)\n",
      "Requirement already satisfied: pyrsistent!=0.17.0,!=0.17.1,!=0.17.2,>=0.14.0 in /Library/Frameworks/Python.framework/Versions/3.10/lib/python3.10/site-packages (from jsonschema>=2.6->nbformat->import_ipynb) (0.18.1)\n",
      "Requirement already satisfied: attrs>=17.4.0 in /Library/Frameworks/Python.framework/Versions/3.10/lib/python3.10/site-packages (from jsonschema>=2.6->nbformat->import_ipynb) (22.1.0)\n",
      "Requirement already satisfied: ptyprocess>=0.5 in /Library/Frameworks/Python.framework/Versions/3.10/lib/python3.10/site-packages (from pexpect>4.3->IPython->import_ipynb) (0.7.0)\n",
      "Requirement already satisfied: wcwidth in /Library/Frameworks/Python.framework/Versions/3.10/lib/python3.10/site-packages (from prompt-toolkit!=3.0.0,!=3.0.1,<3.1.0,>=2.0.0->IPython->import_ipynb) (0.2.5)\n",
      "Requirement already satisfied: executing in /Library/Frameworks/Python.framework/Versions/3.10/lib/python3.10/site-packages (from stack-data->IPython->import_ipynb) (0.9.1)\n",
      "Requirement already satisfied: pure-eval in /Library/Frameworks/Python.framework/Versions/3.10/lib/python3.10/site-packages (from stack-data->IPython->import_ipynb) (0.2.2)\n",
      "Requirement already satisfied: asttokens in /Library/Frameworks/Python.framework/Versions/3.10/lib/python3.10/site-packages (from stack-data->IPython->import_ipynb) (2.0.5)\n",
      "Requirement already satisfied: six in /Library/Frameworks/Python.framework/Versions/3.10/lib/python3.10/site-packages (from asttokens->stack-data->IPython->import_ipynb) (1.16.0)\n"
     ]
    }
   ],
   "source": [
    "!pip install import_ipynb # installation of the library for importing from ipynb file"
   ]
  },
  {
   "cell_type": "code",
   "execution_count": 4,
   "id": "d946bb29",
   "metadata": {},
   "outputs": [
    {
     "name": "stdout",
     "output_type": "stream",
     "text": [
      "4.3\n"
     ]
    }
   ],
   "source": [
    "import import_ipynb\n",
    "from Class_1 import test1 # importing global variable test1 of Class_1.ipynb file\n",
    "\n",
    "print(test1)"
   ]
  },
  {
   "cell_type": "markdown",
   "id": "4943e6ef",
   "metadata": {},
   "source": [
    "# 2. Compiler and Interpreter and their difference\n",
    "\n",
    "## Link: https://www.geeksforgeeks.org/difference-between-compiler-and-interpreter/\n",
    "\n",
    "<img src=\"https://www.astateofdata.com/wp-content/uploads/2019/09/python-code-copiler-machine-code.png\" style=\"width: 49.5%; display: inline-block;\"> <img src=\"https://csharpcorner-mindcrackerinc.netdna-ssl.com/article/why-learn-python-an-introduction-to-python/Images/last2.png\" style=\"width: 49.5%; display: inline-block;\">"
   ]
  },
  {
   "cell_type": "markdown",
   "id": "f04c9c85",
   "metadata": {},
   "source": [
    "# 3. String Formatting\n",
    "\n",
    "### Link: 1. https://www.geeksforgeeks.org/string-formatting-in-python/#:~:text=Formatting%20with%20%25%20Operator.,Formatting%20with%20String%20Template%20Class\n",
    "### 2. https://www.freecodecamp.org/news/format-specifiers-in-c/\n",
    "\n",
    "## 3.1. String Formatting using %"
   ]
  },
  {
   "cell_type": "code",
   "execution_count": 5,
   "id": "8b1ee22c",
   "metadata": {},
   "outputs": [
    {
     "name": "stdout",
     "output_type": "stream",
     "text": [
      "Dayan is the teacher of this class. Zareef is an attentive student of his class.\n"
     ]
    }
   ],
   "source": [
    "teacher = \"Dayan\"\n",
    "student = \"Zareef\"\n",
    "\n",
    "print('%s is the teacher of this class. \\\n",
    "%s is an attentive student of his class.' % (teacher, student))"
   ]
  },
  {
   "cell_type": "markdown",
   "id": "981dba89",
   "metadata": {},
   "source": [
    "## 3.2 String Formatting using % for floating point value"
   ]
  },
  {
   "cell_type": "code",
   "execution_count": 6,
   "id": "d9cdc6f0",
   "metadata": {},
   "outputs": [
    {
     "name": "stdout",
     "output_type": "stream",
     "text": [
      "3.142 is the value of PI\n"
     ]
    }
   ],
   "source": [
    "PI = 3.141592\n",
    "print(\"%.3f is the value of PI\" %PI)"
   ]
  },
  {
   "cell_type": "markdown",
   "id": "bb469ad3",
   "metadata": {},
   "source": [
    "## 3.2 String Formatting using % for character, octal, hexadecimal\n",
    "\n",
    "### a = 97 (Decimal) = 1100001 (Binary)"
   ]
  },
  {
   "cell_type": "code",
   "execution_count": 7,
   "id": "450b2c14",
   "metadata": {},
   "outputs": [
    {
     "name": "stdout",
     "output_type": "stream",
     "text": [
      "Charcter of ASCII Code 97 is = a\n",
      "Octal Number of ASCII Code 97 is = 141\n",
      "Hexa Decimal Number of ASCII Code 97 is = 61\n"
     ]
    }
   ],
   "source": [
    "print(\"Charcter of ASCII Code 97 is = %c\" %97)\n",
    "print(\"Octal Number of ASCII Code 97 is = %o\" %97)\n",
    "print(\"Hexa Decimal Number of ASCII Code 97 is = %x\" %97)"
   ]
  }
 ],
 "metadata": {
  "kernelspec": {
   "display_name": "Python 3 (ipykernel)",
   "language": "python",
   "name": "python3"
  },
  "language_info": {
   "codemirror_mode": {
    "name": "ipython",
    "version": 3
   },
   "file_extension": ".py",
   "mimetype": "text/x-python",
   "name": "python",
   "nbconvert_exporter": "python",
   "pygments_lexer": "ipython3",
   "version": "3.10.5"
  },
  "varInspector": {
   "cols": {
    "lenName": 16,
    "lenType": 16,
    "lenVar": 40
   },
   "kernels_config": {
    "python": {
     "delete_cmd_postfix": "",
     "delete_cmd_prefix": "del ",
     "library": "var_list.py",
     "varRefreshCmd": "print(var_dic_list())"
    },
    "r": {
     "delete_cmd_postfix": ") ",
     "delete_cmd_prefix": "rm(",
     "library": "var_list.r",
     "varRefreshCmd": "cat(var_dic_list()) "
    }
   },
   "types_to_exclude": [
    "module",
    "function",
    "builtin_function_or_method",
    "instance",
    "_Feature"
   ],
   "window_display": false
  }
 },
 "nbformat": 4,
 "nbformat_minor": 5
}
