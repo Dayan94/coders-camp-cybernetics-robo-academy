{
 "cells": [
  {
   "cell_type": "markdown",
   "id": "08ae1c9d",
   "metadata": {},
   "source": [
    "# Class 1 - All Topics"
   ]
  },
  {
   "cell_type": "markdown",
   "id": "fa254165",
   "metadata": {},
   "source": [
    "# List of all Magic Cell commands"
   ]
  },
  {
   "cell_type": "code",
   "execution_count": 2,
   "id": "e4410f2b",
   "metadata": {},
   "outputs": [
    {
     "data": {
      "application/json": {
       "cell": {
        "!": "OSMagics",
        "HTML": "Other",
        "SVG": "Other",
        "bash": "Other",
        "capture": "ExecutionMagics",
        "debug": "ExecutionMagics",
        "file": "Other",
        "html": "DisplayMagics",
        "javascript": "DisplayMagics",
        "js": "DisplayMagics",
        "latex": "DisplayMagics",
        "markdown": "DisplayMagics",
        "perl": "Other",
        "prun": "ExecutionMagics",
        "pypy": "Other",
        "python": "Other",
        "python2": "Other",
        "python3": "Other",
        "ruby": "Other",
        "script": "ScriptMagics",
        "sh": "Other",
        "svg": "DisplayMagics",
        "sx": "OSMagics",
        "system": "OSMagics",
        "time": "ExecutionMagics",
        "timeit": "ExecutionMagics",
        "writefile": "OSMagics"
       },
       "line": {
        "alias": "OSMagics",
        "alias_magic": "BasicMagics",
        "autoawait": "AsyncMagics",
        "autocall": "AutoMagics",
        "automagic": "AutoMagics",
        "autosave": "KernelMagics",
        "bookmark": "OSMagics",
        "cat": "Other",
        "cd": "OSMagics",
        "clear": "KernelMagics",
        "colors": "BasicMagics",
        "conda": "PackagingMagics",
        "config": "ConfigMagics",
        "connect_info": "KernelMagics",
        "cp": "Other",
        "debug": "ExecutionMagics",
        "dhist": "OSMagics",
        "dirs": "OSMagics",
        "doctest_mode": "BasicMagics",
        "ed": "Other",
        "edit": "KernelMagics",
        "env": "OSMagics",
        "gui": "BasicMagics",
        "hist": "Other",
        "history": "HistoryMagics",
        "killbgscripts": "ScriptMagics",
        "ldir": "Other",
        "less": "KernelMagics",
        "lf": "Other",
        "lk": "Other",
        "ll": "Other",
        "load": "CodeMagics",
        "load_ext": "ExtensionMagics",
        "loadpy": "CodeMagics",
        "logoff": "LoggingMagics",
        "logon": "LoggingMagics",
        "logstart": "LoggingMagics",
        "logstate": "LoggingMagics",
        "logstop": "LoggingMagics",
        "ls": "Other",
        "lsmagic": "BasicMagics",
        "lx": "Other",
        "macro": "ExecutionMagics",
        "magic": "BasicMagics",
        "man": "KernelMagics",
        "matplotlib": "PylabMagics",
        "mkdir": "Other",
        "more": "KernelMagics",
        "mv": "Other",
        "notebook": "BasicMagics",
        "page": "BasicMagics",
        "pastebin": "CodeMagics",
        "pdb": "ExecutionMagics",
        "pdef": "NamespaceMagics",
        "pdoc": "NamespaceMagics",
        "pfile": "NamespaceMagics",
        "pinfo": "NamespaceMagics",
        "pinfo2": "NamespaceMagics",
        "pip": "PackagingMagics",
        "popd": "OSMagics",
        "pprint": "BasicMagics",
        "precision": "BasicMagics",
        "prun": "ExecutionMagics",
        "psearch": "NamespaceMagics",
        "psource": "NamespaceMagics",
        "pushd": "OSMagics",
        "pwd": "OSMagics",
        "pycat": "OSMagics",
        "pylab": "PylabMagics",
        "qtconsole": "KernelMagics",
        "quickref": "BasicMagics",
        "recall": "HistoryMagics",
        "rehashx": "OSMagics",
        "reload_ext": "ExtensionMagics",
        "rep": "Other",
        "rerun": "HistoryMagics",
        "reset": "NamespaceMagics",
        "reset_selective": "NamespaceMagics",
        "rm": "Other",
        "rmdir": "Other",
        "run": "ExecutionMagics",
        "save": "CodeMagics",
        "sc": "OSMagics",
        "set_env": "OSMagics",
        "store": "StoreMagics",
        "sx": "OSMagics",
        "system": "OSMagics",
        "tb": "ExecutionMagics",
        "time": "ExecutionMagics",
        "timeit": "ExecutionMagics",
        "unalias": "OSMagics",
        "unload_ext": "ExtensionMagics",
        "who": "NamespaceMagics",
        "who_ls": "NamespaceMagics",
        "whos": "NamespaceMagics",
        "xdel": "NamespaceMagics",
        "xmode": "BasicMagics"
       }
      },
      "text/plain": [
       "Available line magics:\n",
       "%alias  %alias_magic  %autoawait  %autocall  %automagic  %autosave  %bookmark  %cat  %cd  %clear  %colors  %conda  %config  %connect_info  %cp  %debug  %dhist  %dirs  %doctest_mode  %ed  %edit  %env  %gui  %hist  %history  %killbgscripts  %ldir  %less  %lf  %lk  %ll  %load  %load_ext  %loadpy  %logoff  %logon  %logstart  %logstate  %logstop  %ls  %lsmagic  %lx  %macro  %magic  %man  %matplotlib  %mkdir  %more  %mv  %notebook  %page  %pastebin  %pdb  %pdef  %pdoc  %pfile  %pinfo  %pinfo2  %pip  %popd  %pprint  %precision  %prun  %psearch  %psource  %pushd  %pwd  %pycat  %pylab  %qtconsole  %quickref  %recall  %rehashx  %reload_ext  %rep  %rerun  %reset  %reset_selective  %rm  %rmdir  %run  %save  %sc  %set_env  %store  %sx  %system  %tb  %time  %timeit  %unalias  %unload_ext  %who  %who_ls  %whos  %xdel  %xmode\n",
       "\n",
       "Available cell magics:\n",
       "%%!  %%HTML  %%SVG  %%bash  %%capture  %%debug  %%file  %%html  %%javascript  %%js  %%latex  %%markdown  %%perl  %%prun  %%pypy  %%python  %%python2  %%python3  %%ruby  %%script  %%sh  %%svg  %%sx  %%system  %%time  %%timeit  %%writefile\n",
       "\n",
       "Automagic is ON, % prefix IS NOT needed for line magics."
      ]
     },
     "execution_count": 2,
     "metadata": {},
     "output_type": "execute_result"
    }
   ],
   "source": [
    "%lsmagic"
   ]
  },
  {
   "cell_type": "markdown",
   "id": "46dd44c4",
   "metadata": {},
   "source": [
    "# single and double quotation difference in python"
   ]
  },
  {
   "cell_type": "code",
   "execution_count": 20,
   "id": "a2610493",
   "metadata": {},
   "outputs": [
    {
     "name": "stdout",
     "output_type": "stream",
     "text": [
      "I love apple's product\n",
      "I love apple's product\n",
      "He says, \"you are a good man.\"\n",
      "He says, \"you are a good man.\"\n"
     ]
    }
   ],
   "source": [
    "string_1 = 'I love apple\\'s product'\n",
    "string_2 = \"I love apple's product\"\n",
    "string_3 = \"He says, \\\"you are a good man.\\\"\"\n",
    "string_4 = 'He says, \"you are a good man.\"'\n",
    "\n",
    "print(string_1)\n",
    "print(string_2)\n",
    "print(string_3)\n",
    "print(string_4)"
   ]
  },
  {
   "cell_type": "markdown",
   "id": "ab914cf2",
   "metadata": {},
   "source": [
    "# Writing and saving another python file "
   ]
  },
  {
   "cell_type": "code",
   "execution_count": 18,
   "id": "1b0a8071",
   "metadata": {},
   "outputs": [
    {
     "name": "stdout",
     "output_type": "stream",
     "text": [
      "Overwriting test.py\n"
     ]
    }
   ],
   "source": [
    "%%writefile test.py\n",
    "a = 5\n",
    "\n",
    "def num_sum(a, b):\n",
    "    return a+b\n",
    "\n",
    "def num_minus(a, b):\n",
    "    return a-b"
   ]
  },
  {
   "cell_type": "markdown",
   "id": "06523ff1",
   "metadata": {},
   "source": [
    "# import another module or file"
   ]
  },
  {
   "cell_type": "code",
   "execution_count": 19,
   "id": "f2cced7a",
   "metadata": {},
   "outputs": [
    {
     "name": "stdout",
     "output_type": "stream",
     "text": [
      "5\n"
     ]
    }
   ],
   "source": [
    "num1, num2 = 10, 15;\n",
    "\n",
    "import test\n",
    "\n",
    "print(test.a)"
   ]
  },
  {
   "cell_type": "markdown",
   "id": "657bc0d4",
   "metadata": {},
   "source": [
    "# Running different ipynb file"
   ]
  },
  {
   "cell_type": "code",
   "execution_count": 15,
   "id": "2e6c478e",
   "metadata": {},
   "outputs": [
    {
     "name": "stdout",
     "output_type": "stream",
     "text": [
      "test.ipynb\n"
     ]
    }
   ],
   "source": [
    "%run \"test.ipynb\""
   ]
  },
  {
   "cell_type": "markdown",
   "id": "f5018e15",
   "metadata": {},
   "source": [
    "# Importing python module/ file from another directory"
   ]
  },
  {
   "cell_type": "code",
   "execution_count": 16,
   "id": "9f015e9b",
   "metadata": {},
   "outputs": [],
   "source": [
    "import sys\n",
    "\n",
    "sys.path.insert(1, '/Users/Dayan/test.py')\n",
    "\n",
    "from test import num_sum\n",
    "\n",
    "num1 = 100; num2 = 200;\n",
    "\n",
    "print(num_sum(num1, num2))"
   ]
  },
  {
   "cell_type": "markdown",
   "id": "e1d52697",
   "metadata": {},
   "source": [
    "# Variable Scope (LEGB - Local, Enclosing, Global, Built-In)"
   ]
  },
  {
   "cell_type": "markdown",
   "id": "6bb2e4ce",
   "metadata": {},
   "source": [
    "## 1. Globa Scope"
   ]
  },
  {
   "cell_type": "code",
   "execution_count": 3,
   "id": "f4aa82ca",
   "metadata": {},
   "outputs": [
    {
     "name": "stdout",
     "output_type": "stream",
     "text": [
      "10\n",
      "successfully run\n"
     ]
    },
    {
     "data": {
      "text/plain": [
       "10"
      ]
     },
     "execution_count": 3,
     "metadata": {},
     "output_type": "execute_result"
    }
   ],
   "source": [
    "num1 = 10 # Global Scope\n",
    "\n",
    "def testing_fun():\n",
    "    \n",
    "    print(num1) # printing num1 global variable \n",
    "    \n",
    "    return 'successfully run'\n",
    "\n",
    "print(testing_fun())\n",
    "num1"
   ]
  },
  {
   "cell_type": "markdown",
   "id": "a9dcfba2",
   "metadata": {},
   "source": [
    "## 2.1 Local Scope"
   ]
  },
  {
   "cell_type": "code",
   "execution_count": 5,
   "id": "f6709f02",
   "metadata": {},
   "outputs": [
    {
     "name": "stdout",
     "output_type": "stream",
     "text": [
      "20\n",
      "10\n"
     ]
    }
   ],
   "source": [
    "num1 = 10 # Global Scope\n",
    "\n",
    "def testing_fun():\n",
    "     \n",
    "    num1 = 20 # Local Scope\n",
    "    print(num1) # printing num1 global variable \n",
    "    \n",
    "    return 'successfully run'\n",
    "\n",
    "testing_fun()\n",
    "\n",
    "print(num1)"
   ]
  },
  {
   "cell_type": "markdown",
   "id": "cf7d1a25",
   "metadata": {},
   "source": [
    "### 2.1.1 Accessing Global Variable in Local Scope"
   ]
  },
  {
   "cell_type": "code",
   "execution_count": 9,
   "id": "43dc4364",
   "metadata": {},
   "outputs": [
    {
     "name": "stdout",
     "output_type": "stream",
     "text": [
      "10\n",
      "10\n"
     ]
    }
   ],
   "source": [
    "num1 = 10 # Global Scope\n",
    "\n",
    "def testing_fun():\n",
    "    \n",
    "    global num1 \n",
    "    print(num1) # printing num1 global variable \n",
    "    \n",
    "    return 'successfully run'\n",
    "\n",
    "testing_fun()\n",
    "\n",
    "print(num1)"
   ]
  },
  {
   "cell_type": "markdown",
   "id": "6f7d4afc",
   "metadata": {},
   "source": [
    "## 3. Enclosing Scope"
   ]
  },
  {
   "cell_type": "code",
   "execution_count": 4,
   "id": "819b2319",
   "metadata": {},
   "outputs": [
    {
     "name": "stdout",
     "output_type": "stream",
     "text": [
      "5.5\n",
      "3.4\n"
     ]
    }
   ],
   "source": [
    "def func1():\n",
    "    num1 = 5.5 # Enclosing\n",
    "    def func2():\n",
    "        num2 = 3.4 # Local Scope\n",
    "        print(num1)        \n",
    "        print(num2)\n",
    "    \n",
    "    func2()\n",
    "    \n",
    "func1()"
   ]
  },
  {
   "cell_type": "markdown",
   "id": "74722474",
   "metadata": {},
   "source": [
    "## 4. Built-In Scope"
   ]
  },
  {
   "cell_type": "code",
   "execution_count": 20,
   "id": "07586a89",
   "metadata": {},
   "outputs": [
    {
     "name": "stdout",
     "output_type": "stream",
     "text": [
      "test3 = 3.124\n",
      "test2 = 4\n",
      "test1 = 4.3 , test2 = 4\n"
     ]
    }
   ],
   "source": [
    "test1 = round(4.2557, 1) # Global Scope\n",
    "\n",
    "def outer_func():\n",
    "    test2 = round(4.2) # Enclosing Scope\n",
    "    \n",
    "    def inner_func():\n",
    "        test3 = round(3.12354, 3) # Local Scope\n",
    "        print('test3 =', test3)\n",
    "        print('test2 =', test2)\n",
    "    inner_func()\n",
    "    \n",
    "    print('test1 =', test1, ', test2 =', test2)\n",
    "    \n",
    "outer_func()"
   ]
  }
 ],
 "metadata": {
  "kernelspec": {
   "display_name": "Python 3 (ipykernel)",
   "language": "python",
   "name": "python3"
  },
  "language_info": {
   "codemirror_mode": {
    "name": "ipython",
    "version": 3
   },
   "file_extension": ".py",
   "mimetype": "text/x-python",
   "name": "python",
   "nbconvert_exporter": "python",
   "pygments_lexer": "ipython3",
   "version": "3.10.5"
  },
  "varInspector": {
   "cols": {
    "lenName": 16,
    "lenType": 16,
    "lenVar": 40
   },
   "kernels_config": {
    "python": {
     "delete_cmd_postfix": "",
     "delete_cmd_prefix": "del ",
     "library": "var_list.py",
     "varRefreshCmd": "print(var_dic_list())"
    },
    "r": {
     "delete_cmd_postfix": ") ",
     "delete_cmd_prefix": "rm(",
     "library": "var_list.r",
     "varRefreshCmd": "cat(var_dic_list()) "
    }
   },
   "types_to_exclude": [
    "module",
    "function",
    "builtin_function_or_method",
    "instance",
    "_Feature"
   ],
   "window_display": false
  }
 },
 "nbformat": 4,
 "nbformat_minor": 5
}
